{
 "cells": [
  {
   "cell_type": "markdown",
   "metadata": {},
   "source": [
    "STAT 451: Machine Learning (Fall 2020)  \n",
    "Instructor: Sebastian Raschka (sraschka@wisc.edu)  \n",
    "\n",
    "Course website: http://pages.stat.wisc.edu/~sraschka/teaching/stat451-fs2020/"
   ]
  },
  {
   "cell_type": "markdown",
   "metadata": {},
   "source": [
    "# L11: Model Evaluation 4 -- Algorithm Comparison (Nested Cross-Validation)\n",
    "\n",
    "\n",
    "## verbose version 1 (using `StratifiedKFold` directly)"
   ]
  },
  {
   "cell_type": "markdown",
   "metadata": {},
   "source": [
    "This notebook illustrates how to implement nested cross-validation in scikit-learn.\n",
    "\n",
    "<img src=\"nested-cv-image.png\" width=400>\n"
   ]
  },
  {
   "cell_type": "code",
   "execution_count": 1,
   "metadata": {},
   "outputs": [
    {
     "name": "stdout",
     "output_type": "stream",
     "text": [
      "Sebastian Raschka 2020-11-24 \n",
      "\n",
      "CPython 3.8.2\n",
      "IPython 7.18.1\n",
      "\n",
      "sklearn 0.23.2\n",
      "mlxtend 0.18.0.dev0\n"
     ]
    }
   ],
   "source": [
    "%load_ext watermark\n",
    "%watermark -a 'Sebastian Raschka' -d -p sklearn,mlxtend -v"
   ]
  },
  {
   "cell_type": "markdown",
   "metadata": {},
   "source": [
    "- Setting up classifiers (or pipelines) and the parameter grids for model tuning\n",
    "- Remember, the hyperparameter tuning takes place in the inner loop"
   ]
  },
  {
   "cell_type": "code",
   "execution_count": 2,
   "metadata": {},
   "outputs": [],
   "source": [
    "import numpy as np\n",
    "from sklearn.model_selection import GridSearchCV\n",
    "from sklearn.model_selection import train_test_split\n",
    "from sklearn.model_selection import StratifiedKFold\n",
    "from sklearn.model_selection import cross_val_score\n",
    "from sklearn.pipeline import Pipeline\n",
    "from sklearn.preprocessing import StandardScaler\n",
    "from sklearn.linear_model import LogisticRegression\n",
    "from sklearn.neighbors import KNeighborsClassifier\n",
    "from sklearn.tree import DecisionTreeClassifier\n",
    "from sklearn.ensemble import RandomForestClassifier\n",
    "from sklearn.svm import SVC\n",
    "from mlxtend.data import mnist_data\n",
    "from sklearn.metrics import accuracy_score\n",
    "\n",
    "# Loading and splitting the dataset\n",
    "# Note that this is a small (stratified) subset\n",
    "# of MNIST; it consists of 5000 samples only, that is,\n",
    "# 10% of the original MNIST dataset\n",
    "# http://yann.lecun.com/exdb/mnist/\n",
    "X, y = mnist_data()\n",
    "X = X.astype(np.float32)\n",
    "X_train, X_test, y_train, y_test = train_test_split(X, y,\n",
    "                                                    test_size=0.2,\n",
    "                                                    random_state=1,\n",
    "                                                    stratify=y)\n",
    "\n",
    "# Initializing Classifiers\n",
    "clf1 = LogisticRegression(multi_class='multinomial',\n",
    "                          solver='newton-cg',\n",
    "                          random_state=1)\n",
    "clf2 = KNeighborsClassifier(algorithm='ball_tree',\n",
    "                            leaf_size=50)\n",
    "clf3 = DecisionTreeClassifier(random_state=1)\n",
    "clf4 = SVC(random_state=1)\n",
    "clf5 = RandomForestClassifier(random_state=1)\n",
    "\n",
    "# Building the pipelines\n",
    "pipe1 = Pipeline([('std', StandardScaler()),\n",
    "                  ('clf1', clf1)])\n",
    "\n",
    "pipe2 = Pipeline([('std', StandardScaler()),\n",
    "                  ('clf2', clf2)])\n",
    "\n",
    "pipe4 = Pipeline([('std', StandardScaler()),\n",
    "                  ('clf4', clf4)])\n",
    "\n",
    "\n",
    "# Setting up the parameter grids\n",
    "param_grid1 = [{'clf1__penalty': ['l2'],\n",
    "                'clf1__C': np.power(10., np.arange(-4, 4))}]\n",
    "\n",
    "param_grid2 = [{'clf2__n_neighbors': list(range(1, 10)),\n",
    "                'clf2__p': [1, 2]}]\n",
    "\n",
    "param_grid3 = [{'max_depth': list(range(1, 10)) + [None],\n",
    "                'criterion': ['gini', 'entropy']}]\n",
    "\n",
    "param_grid4 = [{'clf4__kernel': ['rbf'],\n",
    "                'clf4__C': np.power(10., np.arange(-4, 4)),\n",
    "                'clf4__gamma': np.power(10., np.arange(-5, 0))},\n",
    "               {'clf4__kernel': ['linear'],\n",
    "                'clf4__C': np.power(10., np.arange(-4, 4))}]\n",
    "\n",
    "param_grid5 = [{'n_estimators': [10, 100, 500, 1000, 10000]}]"
   ]
  },
  {
   "cell_type": "code",
   "execution_count": 3,
   "metadata": {},
   "outputs": [],
   "source": [
    "# Setting up multiple GridSearchCV objects, 1 for each algorithm\n",
    "gridcvs = {}\n",
    "inner_cv = StratifiedKFold(n_splits=2, shuffle=True, random_state=1)\n",
    "\n",
    "for pgrid, est, name in zip((param_grid1, param_grid2, param_grid3, param_grid4, param_grid5),\n",
    "                            (pipe1, pipe2, clf3, pipe4, clf5),\n",
    "                            ('Softmax', 'KNN', 'DTree', 'SVM', 'RForest')):\n",
    "    gcv = GridSearchCV(estimator=est,\n",
    "                       param_grid=pgrid,\n",
    "                       scoring='accuracy',\n",
    "                       n_jobs=-1,\n",
    "                       cv=inner_cv,\n",
    "                       verbose=0,\n",
    "                       refit=True)\n",
    "    gridcvs[name] = gcv"
   ]
  },
  {
   "cell_type": "markdown",
   "metadata": {},
   "source": [
    "- Next, we define the outer loop\n",
    "- The training folds from the outer loop will be used in the inner loop for model tuning\n",
    "- The inner loop selects the best hyperparameter setting\n",
    "- This best hyperparameter setting can be evaluated on both the avg. over the inner test folds and the 1 corresponding test fold of the outer loop"
   ]
  },
  {
   "cell_type": "code",
   "execution_count": 4,
   "metadata": {},
   "outputs": [
    {
     "name": "stdout",
     "output_type": "stream",
     "text": [
      "-------------------------------------------------- \n",
      "\n",
      "Algorithm: DTree\n",
      "    Inner loop:\n",
      "\n",
      "        Best ACC (avg. of inner test folds) 72.59%\n",
      "        Best parameters: {'criterion': 'gini', 'max_depth': None}\n",
      "        ACC (on outer test fold) 75.50%\n",
      "\n",
      "        Best ACC (avg. of inner test folds) 74.03%\n",
      "        Best parameters: {'criterion': 'entropy', 'max_depth': 7}\n",
      "        ACC (on outer test fold) 78.25%\n",
      "\n",
      "        Best ACC (avg. of inner test folds) 73.88%\n",
      "        Best parameters: {'criterion': 'entropy', 'max_depth': 9}\n",
      "        ACC (on outer test fold) 77.38%\n",
      "\n",
      "        Best ACC (avg. of inner test folds) 73.38%\n",
      "        Best parameters: {'criterion': 'entropy', 'max_depth': 8}\n",
      "        ACC (on outer test fold) 74.88%\n",
      "\n",
      "        Best ACC (avg. of inner test folds) 73.91%\n",
      "        Best parameters: {'criterion': 'entropy', 'max_depth': 8}\n",
      "        ACC (on outer test fold) 77.75%\n",
      "\n",
      "    Outer Loop:\n",
      "        ACC 76.75% +/- 1.32\n",
      "-------------------------------------------------- \n",
      "\n",
      "Algorithm: KNN\n",
      "    Inner loop:\n",
      "\n",
      "        Best ACC (avg. of inner test folds) 88.38%\n",
      "        Best parameters: {'clf2__n_neighbors': 1, 'clf2__p': 1}\n",
      "        ACC (on outer test fold) 91.62%\n",
      "\n",
      "        Best ACC (avg. of inner test folds) 88.75%\n",
      "        Best parameters: {'clf2__n_neighbors': 1, 'clf2__p': 1}\n",
      "        ACC (on outer test fold) 91.88%\n",
      "\n",
      "        Best ACC (avg. of inner test folds) 89.84%\n",
      "        Best parameters: {'clf2__n_neighbors': 1, 'clf2__p': 1}\n",
      "        ACC (on outer test fold) 90.88%\n",
      "\n",
      "        Best ACC (avg. of inner test folds) 89.50%\n",
      "        Best parameters: {'clf2__n_neighbors': 1, 'clf2__p': 1}\n",
      "        ACC (on outer test fold) 90.88%\n",
      "\n",
      "        Best ACC (avg. of inner test folds) 89.06%\n",
      "        Best parameters: {'clf2__n_neighbors': 1, 'clf2__p': 1}\n",
      "        ACC (on outer test fold) 90.25%\n",
      "\n",
      "    Outer Loop:\n",
      "        ACC 91.10% +/- 0.58\n",
      "-------------------------------------------------- \n",
      "\n",
      "Algorithm: RForest\n",
      "    Inner loop:\n",
      "\n",
      "        Best ACC (avg. of inner test folds) 92.59%\n",
      "        Best parameters: {'n_estimators': 1000}\n",
      "        ACC (on outer test fold) 95.00%\n",
      "\n",
      "        Best ACC (avg. of inner test folds) 92.59%\n",
      "        Best parameters: {'n_estimators': 10000}\n",
      "        ACC (on outer test fold) 94.75%\n",
      "\n",
      "        Best ACC (avg. of inner test folds) 92.94%\n",
      "        Best parameters: {'n_estimators': 10000}\n",
      "        ACC (on outer test fold) 94.50%\n",
      "\n",
      "        Best ACC (avg. of inner test folds) 93.00%\n",
      "        Best parameters: {'n_estimators': 10000}\n",
      "        ACC (on outer test fold) 92.50%\n",
      "\n",
      "        Best ACC (avg. of inner test folds) 92.75%\n",
      "        Best parameters: {'n_estimators': 500}\n",
      "        ACC (on outer test fold) 93.12%\n",
      "\n",
      "    Outer Loop:\n",
      "        ACC 93.98% +/- 0.98\n",
      "-------------------------------------------------- \n",
      "\n",
      "Algorithm: SVM\n",
      "    Inner loop:\n",
      "\n",
      "        Best ACC (avg. of inner test folds) 90.75%\n",
      "        Best parameters: {'clf4__C': 10.0, 'clf4__gamma': 0.001, 'clf4__kernel': 'rbf'}\n",
      "        ACC (on outer test fold) 92.12%\n",
      "\n",
      "        Best ACC (avg. of inner test folds) 90.22%\n",
      "        Best parameters: {'clf4__C': 0.01, 'clf4__kernel': 'linear'}\n",
      "        ACC (on outer test fold) 92.88%\n",
      "\n",
      "        Best ACC (avg. of inner test folds) 90.91%\n",
      "        Best parameters: {'clf4__C': 0.01, 'clf4__kernel': 'linear'}\n",
      "        ACC (on outer test fold) 90.50%\n",
      "\n",
      "        Best ACC (avg. of inner test folds) 90.53%\n",
      "        Best parameters: {'clf4__C': 10.0, 'clf4__gamma': 0.001, 'clf4__kernel': 'rbf'}\n",
      "        ACC (on outer test fold) 92.75%\n",
      "\n",
      "        Best ACC (avg. of inner test folds) 90.12%\n",
      "        Best parameters: {'clf4__C': 0.001, 'clf4__kernel': 'linear'}\n",
      "        ACC (on outer test fold) 90.75%\n",
      "\n",
      "    Outer Loop:\n",
      "        ACC 91.80% +/- 1.00\n",
      "-------------------------------------------------- \n",
      "\n",
      "Algorithm: Softmax\n",
      "    Inner loop:\n"
     ]
    },
    {
     "name": "stderr",
     "output_type": "stream",
     "text": [
      "/Users/sebastian/miniconda3/lib/python3.8/site-packages/scipy/optimize/linesearch.py:327: LineSearchWarning: The line search algorithm did not converge\n",
      "  warn('The line search algorithm did not converge', LineSearchWarning)\n",
      "/Users/sebastian/miniconda3/lib/python3.8/site-packages/sklearn/utils/optimize.py:204: UserWarning: Line Search failed\n",
      "  warnings.warn('Line Search failed')\n"
     ]
    },
    {
     "name": "stdout",
     "output_type": "stream",
     "text": [
      "\n",
      "        Best ACC (avg. of inner test folds) 88.91%\n",
      "        Best parameters: {'clf1__C': 0.01, 'clf1__penalty': 'l2'}\n",
      "        ACC (on outer test fold) 90.00%\n"
     ]
    },
    {
     "name": "stderr",
     "output_type": "stream",
     "text": [
      "/Users/sebastian/miniconda3/lib/python3.8/site-packages/scipy/optimize/linesearch.py:327: LineSearchWarning: The line search algorithm did not converge\n",
      "  warn('The line search algorithm did not converge', LineSearchWarning)\n",
      "/Users/sebastian/miniconda3/lib/python3.8/site-packages/sklearn/utils/optimize.py:204: UserWarning: Line Search failed\n",
      "  warnings.warn('Line Search failed')\n"
     ]
    },
    {
     "name": "stdout",
     "output_type": "stream",
     "text": [
      "\n",
      "        Best ACC (avg. of inner test folds) 88.75%\n",
      "        Best parameters: {'clf1__C': 0.01, 'clf1__penalty': 'l2'}\n",
      "        ACC (on outer test fold) 91.00%\n"
     ]
    },
    {
     "name": "stderr",
     "output_type": "stream",
     "text": [
      "/Users/sebastian/miniconda3/lib/python3.8/site-packages/scipy/optimize/linesearch.py:327: LineSearchWarning: The line search algorithm did not converge\n",
      "  warn('The line search algorithm did not converge', LineSearchWarning)\n",
      "/Users/sebastian/miniconda3/lib/python3.8/site-packages/sklearn/utils/optimize.py:204: UserWarning: Line Search failed\n",
      "  warnings.warn('Line Search failed')\n"
     ]
    },
    {
     "name": "stdout",
     "output_type": "stream",
     "text": [
      "\n",
      "        Best ACC (avg. of inner test folds) 89.31%\n",
      "        Best parameters: {'clf1__C': 0.01, 'clf1__penalty': 'l2'}\n",
      "        ACC (on outer test fold) 90.00%\n"
     ]
    },
    {
     "name": "stderr",
     "output_type": "stream",
     "text": [
      "/Users/sebastian/miniconda3/lib/python3.8/site-packages/scipy/optimize/linesearch.py:327: LineSearchWarning: The line search algorithm did not converge\n",
      "  warn('The line search algorithm did not converge', LineSearchWarning)\n",
      "/Users/sebastian/miniconda3/lib/python3.8/site-packages/sklearn/utils/optimize.py:204: UserWarning: Line Search failed\n",
      "  warnings.warn('Line Search failed')\n"
     ]
    },
    {
     "name": "stdout",
     "output_type": "stream",
     "text": [
      "\n",
      "        Best ACC (avg. of inner test folds) 88.59%\n",
      "        Best parameters: {'clf1__C': 0.1, 'clf1__penalty': 'l2'}\n",
      "        ACC (on outer test fold) 89.38%\n",
      "\n",
      "        Best ACC (avg. of inner test folds) 88.66%\n",
      "        Best parameters: {'clf1__C': 0.01, 'clf1__penalty': 'l2'}\n",
      "        ACC (on outer test fold) 89.50%\n",
      "\n",
      "    Outer Loop:\n",
      "        ACC 89.97% +/- 0.57\n"
     ]
    },
    {
     "name": "stderr",
     "output_type": "stream",
     "text": [
      "/Users/sebastian/miniconda3/lib/python3.8/site-packages/scipy/optimize/linesearch.py:327: LineSearchWarning: The line search algorithm did not converge\n",
      "  warn('The line search algorithm did not converge', LineSearchWarning)\n",
      "/Users/sebastian/miniconda3/lib/python3.8/site-packages/sklearn/utils/optimize.py:204: UserWarning: Line Search failed\n",
      "  warnings.warn('Line Search failed')\n"
     ]
    }
   ],
   "source": [
    "for name, gs_est in sorted(gridcvs.items()):\n",
    "\n",
    "    print(50 * '-', '\\n')\n",
    "    print('Algorithm:', name)\n",
    "    print('    Inner loop:')\n",
    "    \n",
    "    outer_scores = []\n",
    "    outer_cv = StratifiedKFold(n_splits=5, shuffle=True, random_state=1)\n",
    "    \n",
    "    \n",
    "    for train_idx, valid_idx in outer_cv.split(X_train, y_train):\n",
    "        \n",
    "        gridcvs[name].fit(X_train[train_idx], y_train[train_idx]) # run inner loop hyperparam tuning\n",
    "        print('\\n        Best ACC (avg. of inner test folds) %.2f%%' % (gridcvs[name].best_score_ * 100))\n",
    "        print('        Best parameters:', gridcvs[name].best_params_)\n",
    "        \n",
    "        # perf on test fold (valid_idx)\n",
    "        outer_scores.append(gridcvs[name].best_estimator_.score(X_train[valid_idx], y_train[valid_idx]))\n",
    "        print('        ACC (on outer test fold) %.2f%%' % (outer_scores[-1]*100))\n",
    "    \n",
    "    print('\\n    Outer Loop:')\n",
    "    print('        ACC %.2f%% +/- %.2f' % \n",
    "              (np.mean(outer_scores) * 100, np.std(outer_scores) * 100))"
   ]
  },
  {
   "cell_type": "markdown",
   "metadata": {},
   "source": [
    "------"
   ]
  },
  {
   "cell_type": "markdown",
   "metadata": {},
   "source": [
    "- Determine the best algorithm from the experiment above; e.g., we find that Random Forest is performing best\n",
    "- Now, select a hyperparameters for the model based on regular k-fold on the whole training set"
   ]
  },
  {
   "cell_type": "code",
   "execution_count": 5,
   "metadata": {},
   "outputs": [
    {
     "name": "stderr",
     "output_type": "stream",
     "text": [
      "[Parallel(n_jobs=-1)]: Using backend LokyBackend with 12 concurrent workers.\n"
     ]
    },
    {
     "name": "stdout",
     "output_type": "stream",
     "text": [
      "Fitting 2 folds for each of 5 candidates, totalling 10 fits\n"
     ]
    },
    {
     "name": "stderr",
     "output_type": "stream",
     "text": [
      "[Parallel(n_jobs=-1)]: Done  10 out of  10 | elapsed:  1.3min finished\n"
     ]
    },
    {
     "name": "stdout",
     "output_type": "stream",
     "text": [
      "Best CV accuracy: 93.30%\n",
      "Best parameters: {'n_estimators': 10000}\n"
     ]
    }
   ],
   "source": [
    "gcv_model_select = GridSearchCV(estimator=clf5,\n",
    "                                param_grid=param_grid5,\n",
    "                                scoring='accuracy',\n",
    "                                n_jobs=-1,\n",
    "                                cv=inner_cv,\n",
    "                                verbose=1,\n",
    "                                refit=True)\n",
    "\n",
    "gcv_model_select.fit(X_train, y_train)\n",
    "print('Best CV accuracy: %.2f%%' % (gcv_model_select.best_score_*100))\n",
    "print('Best parameters:', gcv_model_select.best_params_)"
   ]
  },
  {
   "cell_type": "markdown",
   "metadata": {},
   "source": [
    "- Using these settings, we can now train the best model to the whole training set"
   ]
  },
  {
   "cell_type": "code",
   "execution_count": 6,
   "metadata": {},
   "outputs": [
    {
     "name": "stdout",
     "output_type": "stream",
     "text": [
      "Training Accuracy: 100.00%\n",
      "Test Accuracy: 94.00%\n"
     ]
    }
   ],
   "source": [
    "## We can skip the next step because we set refit=True\n",
    "## so scikit-learn has already fit the model to the\n",
    "## whole training set\n",
    "\n",
    "# gcv_model_select.fit(X_train, y_train)\n",
    "\n",
    "train_acc = accuracy_score(y_true=y_train, y_pred=gcv_model_select.predict(X_train))\n",
    "test_acc = accuracy_score(y_true=y_test, y_pred=gcv_model_select.predict(X_test))\n",
    "\n",
    "print('Training Accuracy: %.2f%%' % (100 * train_acc))\n",
    "print('Test Accuracy: %.2f%%' % (100 * test_acc))"
   ]
  },
  {
   "cell_type": "markdown",
   "metadata": {},
   "source": [
    "For comparison, previously, we have seen that using this algorithm, that the avg. outer fold accuracy was \n",
    "\n",
    "    ACC 93.98% +/- 0.98"
   ]
  }
 ],
 "metadata": {
  "anaconda-cloud": {},
  "kernelspec": {
   "display_name": "Python 3",
   "language": "python",
   "name": "python3"
  },
  "language_info": {
   "codemirror_mode": {
    "name": "ipython",
    "version": 3
   },
   "file_extension": ".py",
   "mimetype": "text/x-python",
   "name": "python",
   "nbconvert_exporter": "python",
   "pygments_lexer": "ipython3",
   "version": "3.8.2"
  }
 },
 "nbformat": 4,
 "nbformat_minor": 4
}
