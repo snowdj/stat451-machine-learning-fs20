{
 "cells": [
  {
   "cell_type": "markdown",
   "metadata": {},
   "source": [
    "STAT 451: Machine Learning (Fall 2020)  \n",
    "Instructor: Sebastian Raschka (sraschka@wisc.edu)  \n",
    "\n",
    "Course website: http://pages.stat.wisc.edu/~sraschka/teaching/stat451-fs2020/"
   ]
  },
  {
   "cell_type": "markdown",
   "metadata": {},
   "source": [
    "# L10: Model Evaluation 3 -- Cross-Validation and Model Selection"
   ]
  },
  {
   "cell_type": "code",
   "execution_count": 1,
   "metadata": {},
   "outputs": [
    {
     "name": "stdout",
     "output_type": "stream",
     "text": [
      "Sebastian Raschka \n",
      "last updated: 2020-11-20 \n",
      "\n",
      "CPython 3.8.2\n",
      "IPython 7.18.1\n",
      "\n",
      "numpy 1.18.5\n",
      "mlxtend 0.18.0.dev0\n",
      "matplotlib 3.3.1\n",
      "sklearn 0.23.2\n"
     ]
    }
   ],
   "source": [
    "%load_ext watermark\n",
    "%watermark -a 'Sebastian Raschka' -u -d -v -p numpy,mlxtend,matplotlib,sklearn"
   ]
  },
  {
   "cell_type": "code",
   "execution_count": 2,
   "metadata": {},
   "outputs": [],
   "source": [
    "import numpy as np\n",
    "import matplotlib.pyplot as plt"
   ]
  },
  {
   "cell_type": "markdown",
   "metadata": {},
   "source": [
    "<p style=\"margin-bottom:5cm;\"></p>\n",
    "\n",
    "\n",
    "## GridSearch"
   ]
  },
  {
   "cell_type": "markdown",
   "metadata": {},
   "source": [
    "- For hyperparameter tuning and model selection, `GridSearchCV` is really useful"
   ]
  },
  {
   "cell_type": "code",
   "execution_count": 3,
   "metadata": {},
   "outputs": [],
   "source": [
    "from sklearn.tree import DecisionTreeClassifier\n",
    "from mlxtend.data import iris_data\n",
    "from sklearn.model_selection import train_test_split\n",
    "\n",
    "\n",
    "X, y = iris_data()\n",
    "X_train, X_test, y_train, y_test = train_test_split(X, y, random_state=123, test_size=0.15, \n",
    "                                                    shuffle=True, stratify=y)"
   ]
  },
  {
   "cell_type": "code",
   "execution_count": 4,
   "metadata": {},
   "outputs": [
    {
     "name": "stdout",
     "output_type": "stream",
     "text": [
      "Best Accuracy: 96.09%\n",
      "Best Params: {'criterion': 'gini', 'max_depth': 3}\n"
     ]
    }
   ],
   "source": [
    "from sklearn.model_selection import GridSearchCV\n",
    "\n",
    "\n",
    "param_grid = [{'max_depth': [1, 2, 3, 4, 5, 6, None],\n",
    "               'criterion': ['gini', 'entropy']}]\n",
    "\n",
    "gs = GridSearchCV(estimator=DecisionTreeClassifier(random_state=123),\n",
    "                  param_grid=param_grid,\n",
    "                  refit=True,\n",
    "                  cv=10,\n",
    "                  n_jobs=None)\n",
    "\n",
    "gs.fit(X_train, y_train)\n",
    "\n",
    "print('Best Accuracy: %.2f%%' % (gs.best_score_*100))\n",
    "print('Best Params:', gs.best_params_)"
   ]
  },
  {
   "cell_type": "code",
   "execution_count": 5,
   "metadata": {},
   "outputs": [
    {
     "name": "stdout",
     "output_type": "stream",
     "text": [
      "0.653846153846154 {'criterion': 'gini', 'max_depth': 1}\n",
      "0.9121794871794873 {'criterion': 'gini', 'max_depth': 2}\n",
      "0.9608974358974359 {'criterion': 'gini', 'max_depth': 3}\n",
      "0.951923076923077 {'criterion': 'gini', 'max_depth': 4}\n",
      "0.9602564102564102 {'criterion': 'gini', 'max_depth': 5}\n",
      "0.9602564102564102 {'criterion': 'gini', 'max_depth': 6}\n",
      "0.9602564102564102 {'criterion': 'gini', 'max_depth': None}\n",
      "0.653846153846154 {'criterion': 'entropy', 'max_depth': 1}\n",
      "0.9121794871794873 {'criterion': 'entropy', 'max_depth': 2}\n",
      "0.9608974358974359 {'criterion': 'entropy', 'max_depth': 3}\n",
      "0.9365384615384617 {'criterion': 'entropy', 'max_depth': 4}\n",
      "0.9448717948717948 {'criterion': 'entropy', 'max_depth': 5}\n",
      "0.9525641025641025 {'criterion': 'entropy', 'max_depth': 6}\n",
      "0.9525641025641025 {'criterion': 'entropy', 'max_depth': None}\n"
     ]
    }
   ],
   "source": [
    "for i in range(len(gs.cv_results_['mean_test_score'])):\n",
    "    print(gs.cv_results_['mean_test_score'][i], gs.cv_results_['params'][i]) "
   ]
  },
  {
   "cell_type": "code",
   "execution_count": null,
   "metadata": {},
   "outputs": [],
   "source": []
  },
  {
   "cell_type": "markdown",
   "metadata": {},
   "source": [
    "- We an summarize the results in a heatmap, but note that this only works if you have 1 or 2 hyperparameters to consider"
   ]
  },
  {
   "cell_type": "code",
   "execution_count": 6,
   "metadata": {},
   "outputs": [],
   "source": [
    "import matplotlib.pyplot as plt\n",
    "%matplotlib inline"
   ]
  },
  {
   "cell_type": "code",
   "execution_count": 7,
   "metadata": {},
   "outputs": [
    {
     "data": {
      "image/png": "[encoded data removed]",
      "text/plain": [
       "<Figure size 432x288 with 2 Axes>"
      ]
     },
     "metadata": {
      "needs_background": "light"
     },
     "output_type": "display_data"
    }
   ],
   "source": [
    "from mlxtend.plotting import heatmap\n",
    "import numpy as np\n",
    "import pandas as pd\n",
    "\n",
    "grid = np.zeros((2, 7))\n",
    "grid[0, :] = gs.cv_results_['mean_test_score'][:7]\n",
    "grid[1, :] = gs.cv_results_['mean_test_score'][7:]\n",
    "\n",
    "\n",
    "heatmap(grid, \n",
    "        column_names=[1, 2, 3, 4, 5, 6, \"None\"], \n",
    "        row_names=['gini', 'entropy'])\n",
    "plt.ylabel('Criterion')\n",
    "plt.xlabel('Max depth')\n",
    "plt.show()"
   ]
  },
  {
   "cell_type": "markdown",
   "metadata": {},
   "source": [
    "- After running `GridSearchCV`, we would fit a model with the best settings (hyperparameters on the whole training set\n",
    "- By default, `GridSearchCV` already does this for us (unless, we set `refit=False`), so that we can evaluate the performance of the model on the test set"
   ]
  },
  {
   "cell_type": "code",
   "execution_count": 8,
   "metadata": {},
   "outputs": [
    {
     "name": "stdout",
     "output_type": "stream",
     "text": [
      "Accuracy: 95.65%\n"
     ]
    }
   ],
   "source": [
    "# gs.best_estimator_.fit(X_train, y_train)\n",
    "print('Accuracy: %.2f%%' % (gs.best_estimator_.score(X_test, y_test)*100))"
   ]
  },
  {
   "cell_type": "markdown",
   "metadata": {},
   "source": [
    "<p style=\"margin-bottom:5cm;\"></p>\n",
    "\n",
    "- `GridSearchCV` is also compatible with the .632-Bootstrap iterator we defined earlier"
   ]
  },
  {
   "cell_type": "code",
   "execution_count": 9,
   "metadata": {},
   "outputs": [
    {
     "name": "stdout",
     "output_type": "stream",
     "text": [
      "Best Accuracy: 95.12%\n",
      "Best Params: {'criterion': 'entropy', 'max_depth': 3}\n",
      "Accuracy: 95.65%\n"
     ]
    }
   ],
   "source": [
    "from sklearn.model_selection import GridSearchCV\n",
    "from mlxtend.evaluate import BootstrapOutOfBag\n",
    "\n",
    "\n",
    "param_grid = [{'max_depth': [1, 2, 3, 4, 5, 6, None],\n",
    "               'criterion': ['gini', 'entropy']}]\n",
    "\n",
    "gs = GridSearchCV(estimator=DecisionTreeClassifier(random_state=123),\n",
    "                  param_grid=param_grid,\n",
    "                  cv=BootstrapOutOfBag(n_splits=200, random_seed=123))\n",
    "\n",
    "gs.fit(X_train, y_train)\n",
    "\n",
    "print('Best Accuracy: %.2f%%' % (gs.best_score_*100))\n",
    "print('Best Params:', gs.best_params_)\n",
    "print('Accuracy: %.2f%%' % (gs.best_estimator_.score(X_test, y_test)*100))"
   ]
  },
  {
   "cell_type": "code",
   "execution_count": 10,
   "metadata": {},
   "outputs": [
    {
     "name": "stdout",
     "output_type": "stream",
     "text": [
      "95% CI: [ 89.12, 100.00 ]\n"
     ]
    }
   ],
   "source": [
    "best_model_idx = np.argmin(gs.cv_results_['rank_test_score'])\n",
    "scores = [gs.cv_results_['split%d_test_score' % i][best_model_idx] for i in range(200)]\n",
    "\n",
    "bootstrap_percentile_lower = np.percentile(scores, 2.5)\n",
    "bootstrap_percentile_upper = np.percentile(scores, 97.5)\n",
    "print('95%% CI: [ %.2f, %.2f ]' \n",
    "      % (100*round(bootstrap_percentile_lower, 4), \n",
    "         100*round(bootstrap_percentile_upper, 4)))"
   ]
  },
  {
   "cell_type": "markdown",
   "metadata": {},
   "source": [
    "<p style=\"margin-bottom:5cm;\"></p>\n",
    "\n",
    "- Note that feature scaling is unnecessary when we are using decsion trees, however it DOES matter in most other learning algorithms, including k-Nearest-Neighbors\n",
    "- To avoid introducing bias, we have to compute the parameters for scaling (e.g., the mean and standard deviation in context of z-score normalization) on the training fold to scale the training AND test fold in a given iteration\n",
    "- To make this more convenient, this is where scikit-learn's `Pipeline` class (or `make_pipeline` function) comes in handy as the next cell demonstrates"
   ]
  },
  {
   "cell_type": "code",
   "execution_count": 11,
   "metadata": {},
   "outputs": [
    {
     "name": "stdout",
     "output_type": "stream",
     "text": [
      "Best Accuracy: 94.78%\n",
      "Best Params: {'kneighborsclassifier__n_neighbors': 12, 'kneighborsclassifier__p': 1}\n",
      "Accuracy: 91.30%\n"
     ]
    }
   ],
   "source": [
    "from sklearn.pipeline import make_pipeline\n",
    "from sklearn.preprocessing import StandardScaler\n",
    "from sklearn.neighbors import KNeighborsClassifier\n",
    "\n",
    "\n",
    "pipe = make_pipeline(StandardScaler(), \n",
    "                     KNeighborsClassifier())\n",
    "\n",
    "param_grid = [{'kneighborsclassifier__n_neighbors': list(range(1, 16)),\n",
    "               'kneighborsclassifier__p': [1, 2]}]\n",
    "\n",
    "\n",
    "gs = GridSearchCV(estimator=pipe,\n",
    "                  param_grid=param_grid,\n",
    "                  n_jobs=-1,\n",
    "                  cv=BootstrapOutOfBag(n_splits=200, random_seed=123))\n",
    "\n",
    "gs.fit(X_train, y_train)\n",
    "\n",
    "print('Best Accuracy: %.2f%%' % (gs.best_score_*100))\n",
    "print('Best Params:', gs.best_params_)\n",
    "print('Accuracy: %.2f%%' % (gs.best_estimator_.score(X_test, y_test)*100))"
   ]
  },
  {
   "cell_type": "markdown",
   "metadata": {},
   "source": [
    "<br>\n",
    "<br>\n",
    "<br>\n",
    "<br>"
   ]
  },
  {
   "cell_type": "markdown",
   "metadata": {},
   "source": [
    "## Randomized Search"
   ]
  },
  {
   "cell_type": "markdown",
   "metadata": {},
   "source": [
    "- Here, each setting is sampled from a distribution (discrete or continuous) over possible parameter values\n",
    "- Instead of running all combinations exhaustively like in GridSearch, a budget is specified (`n_iter` specifies the number of candidates to evaluate)"
   ]
  },
  {
   "cell_type": "markdown",
   "metadata": {},
   "source": [
    "### ParamSampler\n",
    "\n",
    "- To explain these concepts, let's take a look at the `ParamSampler` first, which is used under the hood of the `RandomizedSearchCV`; it will help us building some intuition."
   ]
  },
  {
   "cell_type": "markdown",
   "metadata": {},
   "source": [
    "As we can see in the example below, lists are also supported; they will behave like gridsearch"
   ]
  },
  {
   "cell_type": "code",
   "execution_count": 12,
   "metadata": {},
   "outputs": [
    {
     "name": "stderr",
     "output_type": "stream",
     "text": [
      "/Users/sebastian/miniconda3/lib/python3.8/site-packages/sklearn/model_selection/_search.py:278: UserWarning: The total space of parameters 6 is smaller than n_iter=10. Running 6 iterations. For exhaustive searches, use GridSearchCV.\n",
      "  warnings.warn(\n"
     ]
    },
    {
     "data": {
      "text/plain": [
       "[{'parameter 2': 'a', 'parameter 1': 1},\n",
       " {'parameter 2': 'b', 'parameter 1': 1},\n",
       " {'parameter 2': 'a', 'parameter 1': 2},\n",
       " {'parameter 2': 'b', 'parameter 1': 2},\n",
       " {'parameter 2': 'a', 'parameter 1': 3},\n",
       " {'parameter 2': 'b', 'parameter 1': 3}]"
      ]
     },
     "execution_count": 12,
     "metadata": {},
     "output_type": "execute_result"
    }
   ],
   "source": [
    "from sklearn.model_selection import ParameterSampler\n",
    "\n",
    "\n",
    "d = {'parameter 1': [1, 2, 3], \n",
    "     'parameter 2': ['a', 'b']}\n",
    "\n",
    "ps = ParameterSampler(param_distributions=d,\n",
    "                      n_iter=10, \n",
    "                      random_state=123)\n",
    "\n",
    "list(ps)"
   ]
  },
  {
   "cell_type": "markdown",
   "metadata": {},
   "source": [
    "- We can define probability distributions using SciPy's selection of distributions (https://docs.scipy.org/doc/scipy/reference/stats.html).\n",
    "\n",
    "- Consider a discrete random uniform distribution for parameter 1 (note that in this case, there is a sampling with replacement from the distribution)"
   ]
  },
  {
   "cell_type": "code",
   "execution_count": 13,
   "metadata": {},
   "outputs": [
    {
     "data": {
      "text/plain": [
       "[{'parameter 1': 3, 'parameter 2': 'b'},\n",
       " {'parameter 1': 3, 'parameter 2': 'a'},\n",
       " {'parameter 1': 1, 'parameter 2': 'a'},\n",
       " {'parameter 1': 3, 'parameter 2': 'b'},\n",
       " {'parameter 1': 3, 'parameter 2': 'b'},\n",
       " {'parameter 1': 2, 'parameter 2': 'a'},\n",
       " {'parameter 1': 2, 'parameter 2': 'a'},\n",
       " {'parameter 1': 2, 'parameter 2': 'a'},\n",
       " {'parameter 1': 2, 'parameter 2': 'a'},\n",
       " {'parameter 1': 3, 'parameter 2': 'a'}]"
      ]
     },
     "execution_count": 13,
     "metadata": {},
     "output_type": "execute_result"
    }
   ],
   "source": [
    "import scipy.stats\n",
    "\n",
    "d = {'parameter 1': scipy.stats.randint(low=1, high=4), # integer between 1-3\n",
    "     'parameter 2': ['a', 'b']}\n",
    "\n",
    "ps = ParameterSampler(param_distributions=d,\n",
    "                      n_iter=10, \n",
    "                      random_state=123)\n",
    "\n",
    "list(ps)"
   ]
  },
  {
   "cell_type": "markdown",
   "metadata": {},
   "source": [
    "- below is an example for sampling from a uniform continuous distribution:"
   ]
  },
  {
   "cell_type": "code",
   "execution_count": 14,
   "metadata": {},
   "outputs": [
    {
     "data": {
      "image/png": "[encoded data removed]",
      "text/plain": [
       "<Figure size 432x288 with 1 Axes>"
      ]
     },
     "metadata": {
      "needs_background": "light"
     },
     "output_type": "display_data"
    }
   ],
   "source": [
    "import matplotlib.pyplot as plt\n",
    "%matplotlib inline\n",
    "import numpy as np\n",
    "\n",
    "plt.hist(scipy.stats.uniform(loc=0, scale=3).rvs(10000))\n",
    "plt.show()"
   ]
  },
  {
   "cell_type": "code",
   "execution_count": 15,
   "metadata": {},
   "outputs": [
    {
     "data": {
      "text/plain": [
       "[{'parameter 1': 2.089407556793585, 'parameter 2': 'a'},\n",
       " {'parameter 1': 1.285412778560477, 'parameter 2': 'a'},\n",
       " {'parameter 1': 1.6539443072486737, 'parameter 2': 'b'},\n",
       " {'parameter 1': 1.473356800297792, 'parameter 2': 'b'},\n",
       " {'parameter 1': 2.9422925951538463, 'parameter 2': 'a'},\n",
       " {'parameter 1': 1.7390828910678304, 'parameter 2': 'b'},\n",
       " {'parameter 1': 1.1763525545824516, 'parameter 2': 'a'},\n",
       " {'parameter 1': 1.8819510280128502, 'parameter 2': 'b'},\n",
       " {'parameter 1': 1.3157167340388733, 'parameter 2': 'b'},\n",
       " {'parameter 1': 2.084265531555807, 'parameter 2': 'a'}]"
      ]
     },
     "execution_count": 15,
     "metadata": {},
     "output_type": "execute_result"
    }
   ],
   "source": [
    "d = {'parameter 1': scipy.stats.uniform(loc=0, scale=3), # float between 1-3\n",
    "     'parameter 2': ['a', 'b']}\n",
    "\n",
    "ps = ParameterSampler(param_distributions=d,\n",
    "                      n_iter=10, \n",
    "                      random_state=123)\n",
    "\n",
    "list(ps)"
   ]
  },
  {
   "cell_type": "markdown",
   "metadata": {},
   "source": [
    "<br>\n",
    "<br>\n",
    "<br>\n",
    "<br>"
   ]
  },
  {
   "cell_type": "markdown",
   "metadata": {},
   "source": [
    "### RandomizedSeachCV example"
   ]
  },
  {
   "cell_type": "code",
   "execution_count": 16,
   "metadata": {},
   "outputs": [
    {
     "data": {
      "image/png": "[encoded data removed]",
      "text/plain": [
       "<Figure size 432x288 with 1 Axes>"
      ]
     },
     "metadata": {
      "needs_background": "light"
     },
     "output_type": "display_data"
    }
   ],
   "source": [
    "plt.hist(scipy.stats.expon(scale=0.4).rvs(10000))\n",
    "plt.show()"
   ]
  },
  {
   "cell_type": "code",
   "execution_count": 17,
   "metadata": {},
   "outputs": [],
   "source": [
    "from sklearn.experimental import enable_hist_gradient_boosting\n",
    "from sklearn.ensemble import HistGradientBoostingClassifier\n",
    "from sklearn.model_selection import RandomizedSearchCV"
   ]
  },
  {
   "cell_type": "code",
   "execution_count": 18,
   "metadata": {},
   "outputs": [
    {
     "name": "stdout",
     "output_type": "stream",
     "text": [
      "Best Accuracy: 96.73%\n",
      "Best Params: {'l2_regularization': 0.7770044388897804, 'learning_rate': 0.011352363969357031, 'max_depth': 5}\n"
     ]
    }
   ],
   "source": [
    "gbm = HistGradientBoostingClassifier(random_state=123)\n",
    "\n",
    "d = {'learning_rate': scipy.stats.expon(scale=0.4),\n",
    "     'max_depth': scipy.stats.randint(low=3, high=10),\n",
    "     'l2_regularization': scipy.stats.uniform(loc=0, scale=1)}\n",
    "\n",
    "rcv = RandomizedSearchCV(estimator=gbm,\n",
    "                         param_distributions=d, \n",
    "                         n_iter=200,\n",
    "                         cv=10,\n",
    "                         refit=True,\n",
    "                         random_state=123,\n",
    "                         n_jobs=-1)\n",
    "\n",
    "rcv.fit(X_train, y_train)\n",
    "\n",
    "print('Best Accuracy: %.2f%%' % (rcv.best_score_*100))\n",
    "print('Best Params:', rcv.best_params_)"
   ]
  }
 ],
 "metadata": {
  "kernelspec": {
   "display_name": "Python 3",
   "language": "python",
   "name": "python3"
  },
  "language_info": {
   "codemirror_mode": {
    "name": "ipython",
    "version": 3
   },
   "file_extension": ".py",
   "mimetype": "text/x-python",
   "name": "python",
   "nbconvert_exporter": "python",
   "pygments_lexer": "ipython3",
   "version": "3.8.2"
  }
 },
 "nbformat": 4,
 "nbformat_minor": 4
}
