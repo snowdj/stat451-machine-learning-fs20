{
 "cells": [
  {
   "cell_type": "markdown",
   "metadata": {},
   "source": [
    "STAT 451: Machine Learning (Fall 2020)  \n",
    "Instructor: Sebastian Raschka (sraschka@wisc.edu)  \n",
    "\n",
    "Course website: http://pages.stat.wisc.edu/~sraschka/teaching/stat451-fs2020/"
   ]
  },
  {
   "cell_type": "markdown",
   "metadata": {},
   "source": [
    "# Balanced Accuracy"
   ]
  },
  {
   "cell_type": "code",
   "execution_count": 23,
   "metadata": {},
   "outputs": [],
   "source": [
    "from mlxtend.evaluate import confusion_matrix\n",
    "from mlxtend.evaluate import accuracy_score\n",
    "import numpy as np"
   ]
  },
  {
   "cell_type": "code",
   "execution_count": 24,
   "metadata": {},
   "outputs": [],
   "source": [
    "y_targ = np.array(3*[0] + 69*[1] + 18*[2])\n",
    "y_pred = np.array(10*[0] + 50*[1] + 30*[2])"
   ]
  },
  {
   "cell_type": "code",
   "execution_count": 25,
   "metadata": {},
   "outputs": [
    {
     "name": "stdout",
     "output_type": "stream",
     "text": [
      "Standard accuracy: 78.89%\n",
      "Class 0 accuracy: 92.22%\n",
      "Class 1 accuracy: 78.89%\n",
      "Class 2 accuracy: 86.67%\n",
      "Average per-class accuracy: 85.93%\n"
     ]
    }
   ],
   "source": [
    "std_acc = accuracy_score(y_targ, y_pred)\n",
    "\n",
    "bin_acc0 = accuracy_score(y_targ, y_pred, method='binary', pos_label=0)\n",
    "bin_acc1 = accuracy_score(y_targ, y_pred, method='binary', pos_label=1)\n",
    "bin_acc2 = accuracy_score(y_targ, y_pred, method='binary', pos_label=2)\n",
    "\n",
    "avg_acc = accuracy_score(y_targ, y_pred, method='average')\n",
    "\n",
    "print(f'Standard accuracy: {std_acc*100:.2f}%')\n",
    "print(f'Class 0 accuracy: {bin_acc0*100:.2f}%')\n",
    "print(f'Class 1 accuracy: {bin_acc1*100:.2f}%')\n",
    "print(f'Class 2 accuracy: {bin_acc2*100:.2f}%')\n",
    "print(f'Average per-class accuracy: {avg_acc*100:.2f}%')"
   ]
  }
 ],
 "metadata": {
  "kernelspec": {
   "display_name": "Python 3",
   "language": "python",
   "name": "python3"
  },
  "language_info": {
   "codemirror_mode": {
    "name": "ipython",
    "version": 3
   },
   "file_extension": ".py",
   "mimetype": "text/x-python",
   "name": "python",
   "nbconvert_exporter": "python",
   "pygments_lexer": "ipython3",
   "version": "3.8.2"
  }
 },
 "nbformat": 4,
 "nbformat_minor": 4
}
