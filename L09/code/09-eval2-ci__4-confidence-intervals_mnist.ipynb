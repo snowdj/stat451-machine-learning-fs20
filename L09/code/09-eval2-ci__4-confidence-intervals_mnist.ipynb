{
 "cells": [
  {
   "cell_type": "markdown",
   "metadata": {},
   "source": [
    "STAT 451: Machine Learning (Fall 2020)  \n",
    "Instructor: Sebastian Raschka (sraschka@wisc.edu)  \n",
    "\n",
    "Course website: http://pages.stat.wisc.edu/~sraschka/teaching/stat451-fs2020/"
   ]
  },
  {
   "cell_type": "markdown",
   "metadata": {},
   "source": [
    "# L09: Model Evaluation 2 -- Confidence Intervals and Resampling"
   ]
  },
  {
   "cell_type": "code",
   "execution_count": 1,
   "metadata": {},
   "outputs": [
    {
     "name": "stdout",
     "output_type": "stream",
     "text": [
      "Sebastian Raschka \n",
      "last updated: 2020-11-19 \n",
      "\n",
      "CPython 3.8.2\n",
      "IPython 7.18.1\n",
      "\n",
      "numpy 1.18.5\n",
      "mlxtend 0.18.0.dev0\n",
      "matplotlib 3.3.1\n",
      "sklearn 0.23.2\n"
     ]
    }
   ],
   "source": [
    "%load_ext watermark\n",
    "%watermark -a 'Sebastian Raschka' -u -d -v -p numpy,mlxtend,matplotlib,sklearn"
   ]
  },
  {
   "cell_type": "code",
   "execution_count": 2,
   "metadata": {},
   "outputs": [],
   "source": [
    "%matplotlib inline\n",
    "import numpy as np\n",
    "import matplotlib.pyplot as plt"
   ]
  },
  {
   "cell_type": "markdown",
   "metadata": {},
   "source": [
    "# 4.  Confidence Intervals"
   ]
  },
  {
   "cell_type": "markdown",
   "metadata": {},
   "source": [
    "In this section, we are comparing the confidence intervals from using the normal approximation and using the bootstrap percentile method."
   ]
  },
  {
   "cell_type": "markdown",
   "metadata": {},
   "source": [
    "## 4.1 MNIST (5k subset) Simulation"
   ]
  },
  {
   "cell_type": "code",
   "execution_count": 3,
   "metadata": {},
   "outputs": [],
   "source": [
    "from mlxtend.data import mnist_data\n",
    "#from sklearn.neighbors import KNeighborsClassifier\n",
    "from sklearn.tree import DecisionTreeClassifier\n",
    "from sklearn.model_selection import train_test_split\n",
    "\n",
    "\n",
    "X, y = mnist_data()\n",
    "\n",
    "X_train, X_test, y_train, y_test = train_test_split(X, y,\n",
    "                                                    test_size=0.15, \n",
    "                                                    random_state=12345,\n",
    "                                                    stratify=y)\n",
    "## Too slow\n",
    "#clf = KNeighborsClassifier(n_neighbors=3,\n",
    "#                           weights='uniform', \n",
    "#                           algorithm='kd_tree', \n",
    "#                           leaf_size=30, \n",
    "#                           p=2, \n",
    "#                           metric='minkowski', \n",
    "#                           metric_params=None, \n",
    "#                           n_jobs=1)\n",
    "\n",
    "clf = DecisionTreeClassifier(random_state=123)"
   ]
  },
  {
   "cell_type": "markdown",
   "metadata": {},
   "source": [
    "### 4.1.1 Out-of-Bag (OOB) Bootstrap; Bootstrapping Training Sets -- Setup Step"
   ]
  },
  {
   "cell_type": "markdown",
   "metadata": {},
   "source": [
    "- If you don't tune your model on the training set, you actually don't need a test set for this approach"
   ]
  },
  {
   "cell_type": "code",
   "execution_count": 4,
   "metadata": {},
   "outputs": [
    {
     "data": {
      "text/plain": [
       "0.746178018090561"
      ]
     },
     "execution_count": 4,
     "metadata": {},
     "output_type": "execute_result"
    }
   ],
   "source": [
    "import numpy as np\n",
    "\n",
    "\n",
    "rng = np.random.RandomState(seed=12345)\n",
    "idx = np.arange(y_train.shape[0])\n",
    "\n",
    "bootstrap_train_accuracies = []\n",
    "\n",
    "for i in range(200):\n",
    "    \n",
    "    train_idx = rng.choice(idx, size=idx.shape[0], replace=True)\n",
    "    test_idx = np.setdiff1d(idx, train_idx, assume_unique=False)\n",
    "    \n",
    "    boot_train_X, boot_train_y = X_train[train_idx], y_train[train_idx]\n",
    "    boot_test_X, boot_test_y = X_train[test_idx], y_train[test_idx]\n",
    "    \n",
    "    clf.fit(boot_train_X, boot_train_y)\n",
    "    acc = clf.score(boot_test_X, boot_test_y)\n",
    "    bootstrap_train_accuracies.append(acc)\n",
    "\n",
    "bootstrap_train_mean = np.mean(bootstrap_train_accuracies)\n",
    "bootstrap_train_mean"
   ]
  },
  {
   "cell_type": "markdown",
   "metadata": {},
   "source": [
    "### 4.1.2 Bootstrap 1-sample Confidence Interval (Based on OOB Estimates)"
   ]
  },
  {
   "cell_type": "code",
   "execution_count": 5,
   "metadata": {},
   "outputs": [
    {
     "name": "stdout",
     "output_type": "stream",
     "text": [
      "0.7213957368895877 0.7709602992915342\n"
     ]
    }
   ],
   "source": [
    "se = np.sqrt( (1. / (200-1)) * np.sum([(acc - bootstrap_train_mean)**2 \n",
    "                                       for acc in bootstrap_train_accuracies])) \n",
    "ci = 1.96 * se  # 1.96 based on T distribution\n",
    "\n",
    "bootstrap_na_lower = bootstrap_train_mean-ci\n",
    "bootstrap_na_upper = bootstrap_train_mean+ci\n",
    "\n",
    "print(bootstrap_na_lower, bootstrap_na_upper)"
   ]
  },
  {
   "cell_type": "code",
   "execution_count": 6,
   "metadata": {},
   "outputs": [],
   "source": [
    "import matplotlib.pyplot as plt\n",
    "%matplotlib inline"
   ]
  },
  {
   "cell_type": "code",
   "execution_count": 7,
   "metadata": {},
   "outputs": [
    {
     "data": {
      "image/png": "[encoded data removed]",
      "text/plain": [
       "<Figure size 576x288 with 1 Axes>"
      ]
     },
     "metadata": {
      "needs_background": "light"
     },
     "output_type": "display_data"
    }
   ],
   "source": [
    "fig, ax = plt.subplots(figsize=(8, 4))\n",
    "ax.vlines( bootstrap_train_mean, [0], 80, lw=2.5, linestyle='-', label='bootstrap train mean')\n",
    "\n",
    "ax.vlines(bootstrap_na_upper, [0], 15, lw=2.5, linestyle='dotted', \n",
    "          label='CI95 bootstrap, normal approx.', color='C2')\n",
    "ax.vlines(bootstrap_na_lower, [0], 15, lw=2.5, linestyle='dotted', color='C2')\n",
    "\n",
    "ax.hist(bootstrap_train_accuracies, bins=7,\n",
    "        color='#0080ff', edgecolor=\"none\", \n",
    "        alpha=0.3)\n",
    "plt.legend(loc='upper left')\n",
    "\n",
    "plt.xlim([0.6, 0.8])\n",
    "plt.tight_layout()\n",
    "#plt.savefig('figures/bootstrap-histo-1.svg')\n",
    "\n",
    "plt.show()"
   ]
  },
  {
   "cell_type": "markdown",
   "metadata": {},
   "source": [
    "### 4.1.3 Bootstrap Percentile Method"
   ]
  },
  {
   "cell_type": "code",
   "execution_count": 8,
   "metadata": {},
   "outputs": [
    {
     "name": "stdout",
     "output_type": "stream",
     "text": [
      "0.7204597701149424 0.7696229551148738\n"
     ]
    }
   ],
   "source": [
    "bootstrap_percentile_lower = np.percentile(bootstrap_train_accuracies, 2.5)\n",
    "bootstrap_percentile_upper = np.percentile(bootstrap_train_accuracies, 97.5)\n",
    "\n",
    "print(bootstrap_percentile_lower, bootstrap_percentile_upper)"
   ]
  },
  {
   "cell_type": "code",
   "execution_count": 20,
   "metadata": {},
   "outputs": [
    {
     "data": {
      "image/png": "[encoded data removed]",
      "text/plain": [
       "<Figure size 576x288 with 1 Axes>"
      ]
     },
     "metadata": {
      "needs_background": "light"
     },
     "output_type": "display_data"
    }
   ],
   "source": [
    "fig, ax = plt.subplots(figsize=(8, 4))\n",
    "ax.vlines( bootstrap_train_mean, [0], 80, lw=2.5, linestyle='-', label='bootstrap train mean')\n",
    "\n",
    "ax.vlines(bootstrap_na_upper, [0], 15, lw=2.5, linestyle='dotted', \n",
    "          label='CI95 bootstrap, normal approx.', color='C2')\n",
    "ax.vlines(bootstrap_na_lower, [0], 15, lw=2.5, linestyle='dotted', color='C2')\n",
    "\n",
    "ax.vlines(bootstrap_percentile_upper, [0], 15, lw=2.5, linestyle='dashed', \n",
    "          label='CI95 bootstrap, percentile', color='C1')\n",
    "ax.vlines(bootstrap_percentile_lower, [0], 15, lw=2.5, linestyle='dashed', color='C1')\n",
    "\n",
    "ax.hist(bootstrap_train_accuracies, bins=7,\n",
    "        color='#0080ff', edgecolor=\"none\", \n",
    "        alpha=0.3)\n",
    "plt.legend(loc='upper left')\n",
    "\n",
    "plt.xlim([0.6, 0.81])\n",
    "plt.tight_layout()\n",
    "#plt.savefig('figures/bootstrap-histo-1.svg')\n",
    "\n",
    "plt.show()"
   ]
  },
  {
   "cell_type": "markdown",
   "metadata": {},
   "source": [
    "### 4.1.4 Normal Approximation (No Bootstrap) Based on Test Set"
   ]
  },
  {
   "cell_type": "code",
   "execution_count": 10,
   "metadata": {},
   "outputs": [
    {
     "name": "stdout",
     "output_type": "stream",
     "text": [
      "0.7405787360493972 0.8007545972839363\n"
     ]
    }
   ],
   "source": [
    "clf.fit(X_train, y_train)\n",
    "acc_test_na = clf.score(X_test, y_test)\n",
    "ci_test_na = 1.96 * np.sqrt((acc_test_na*(1-acc_test_na)) / y_test.shape[0])\n",
    "\n",
    "test_na_lower = acc_test_na-ci_test_na\n",
    "test_na_upper = acc_test_na+ci_test_na\n",
    "\n",
    "print(test_na_lower, test_na_upper)"
   ]
  },
  {
   "cell_type": "markdown",
   "metadata": {},
   "source": [
    "### 4.1.5 Bootstrapping the Test Set predictions"
   ]
  },
  {
   "cell_type": "markdown",
   "metadata": {},
   "source": [
    "- Avoids retraining the model"
   ]
  },
  {
   "cell_type": "code",
   "execution_count": 11,
   "metadata": {},
   "outputs": [
    {
     "name": "stdout",
     "output_type": "stream",
     "text": [
      "0.7359666666666667 0.7947333333333334\n"
     ]
    }
   ],
   "source": [
    "clf.fit(X_train, y_train)\n",
    "\n",
    "predictions_test = clf.predict(X_test)\n",
    "acc_test = np.mean(predictions_test == y_test)\n",
    "\n",
    "rng = np.random.RandomState(seed=12345)\n",
    "idx = np.arange(y_test.shape[0])\n",
    "\n",
    "test_accuracies = []\n",
    "\n",
    "for i in range(200):\n",
    "    \n",
    "    pred_idx = rng.choice(idx, size=idx.shape[0], replace=True)\n",
    "    acc_test_boot = np.mean(predictions_test[pred_idx] == y_test[pred_idx])\n",
    "    test_accuracies.append(acc_test_boot)\n",
    "    \n",
    "    \n",
    "mean_test_accuracies = np.mean(test_accuracies)\n",
    "bootstrap_lower_test = np.percentile(test_accuracies, 2.5)\n",
    "bootstrap_upper_test = np.percentile(test_accuracies, 97.5)\n",
    "\n",
    "print(bootstrap_lower_test, bootstrap_upper_test)"
   ]
  },
  {
   "cell_type": "markdown",
   "metadata": {},
   "source": [
    "<br>\n",
    "<br>\n",
    "<br>"
   ]
  },
  {
   "cell_type": "markdown",
   "metadata": {},
   "source": [
    "### 4.1.5 OOB Bootstrap with Percentile Method"
   ]
  },
  {
   "cell_type": "markdown",
   "metadata": {},
   "source": [
    "Same as \"4.1.2 Normal Approximation-based Bootstrap Interval (Based on OOB Estimates)\" but using mlxtend"
   ]
  },
  {
   "cell_type": "code",
   "execution_count": 12,
   "metadata": {},
   "outputs": [
    {
     "name": "stdout",
     "output_type": "stream",
     "text": [
      "Mean Bootstrap score 0.746178018090561\n",
      "Score Std 0.012612371356695583\n"
     ]
    }
   ],
   "source": [
    "from mlxtend.evaluate import bootstrap_point632_score\n",
    "\n",
    "bootstrap_scores = bootstrap_point632_score(clf, \n",
    "                                            X_train, y_train, \n",
    "                                            n_splits=200, \n",
    "                                            method='oob',\n",
    "                                            random_seed=12345)\n",
    "\n",
    "bootstrap_oob_mean = np.mean(bootstrap_scores)\n",
    "print('Mean Bootstrap score', bootstrap_oob_mean)\n",
    "print('Score Std', np.std(bootstrap_scores))\n",
    "\n",
    "bootstrap_oob_percentile_lower = np.percentile(bootstrap_scores, 2.5)\n",
    "bootstrap_oob_percentile_upper = np.percentile(bootstrap_scores, 97.5)"
   ]
  },
  {
   "cell_type": "code",
   "execution_count": 13,
   "metadata": {},
   "outputs": [
    {
     "name": "stdout",
     "output_type": "stream",
     "text": [
      "0.7204597701149424 0.7696229551148738\n"
     ]
    }
   ],
   "source": [
    "print(bootstrap_percentile_lower, bootstrap_percentile_upper)"
   ]
  },
  {
   "cell_type": "markdown",
   "metadata": {},
   "source": [
    "### 4.1.6 .632 Bootstrap"
   ]
  },
  {
   "cell_type": "markdown",
   "metadata": {},
   "source": [
    "The .632 Bootstrap is the default setting of `bootstrap_point632_score`; it tends to be overly optimistic."
   ]
  },
  {
   "cell_type": "code",
   "execution_count": 14,
   "metadata": {},
   "outputs": [
    {
     "name": "stdout",
     "output_type": "stream",
     "text": [
      "Mean Bootstrap score 0.8395845074332344\n",
      "Score Std 0.00797101869743161\n"
     ]
    }
   ],
   "source": [
    "bootstrap_scores = bootstrap_point632_score(clf, \n",
    "                                            X_train, y_train, \n",
    "                                            n_splits=200,\n",
    "                                            random_seed=12345)\n",
    "\n",
    "bootstrap_632_mean = np.mean(bootstrap_scores)\n",
    "print('Mean Bootstrap score', bootstrap_632_mean)\n",
    "print('Score Std', np.std(bootstrap_scores))\n",
    "\n",
    "bootstrap_632_percentile_lower = np.percentile(bootstrap_scores, 2.5)\n",
    "bootstrap_632_percentile_upper = np.percentile(bootstrap_scores, 97.5)"
   ]
  },
  {
   "cell_type": "code",
   "execution_count": 15,
   "metadata": {},
   "outputs": [
    {
     "name": "stdout",
     "output_type": "stream",
     "text": [
      "0.8233305747126436 0.8544017076326004\n"
     ]
    }
   ],
   "source": [
    "print(bootstrap_632_percentile_lower, bootstrap_632_percentile_upper)"
   ]
  },
  {
   "cell_type": "markdown",
   "metadata": {},
   "source": [
    "###  4.1.7 .632+ Bootstrap"
   ]
  },
  {
   "cell_type": "markdown",
   "metadata": {},
   "source": [
    "The .632+ Boostrap method attempts to address the optimistic bias of the regular .632 Boostrap."
   ]
  },
  {
   "cell_type": "code",
   "execution_count": 16,
   "metadata": {},
   "outputs": [
    {
     "name": "stdout",
     "output_type": "stream",
     "text": [
      "Mean Bootstrap score 0.8209506134852991\n",
      "Score Std 0.009939266872877635\n"
     ]
    }
   ],
   "source": [
    "bootstrap_scores = bootstrap_point632_score(clf, X_train, y_train, \n",
    "                                            n_splits=200, \n",
    "                                            method='.632+',\n",
    "                                            random_seed=12345)\n",
    "\n",
    "bootstrap_632plus_mean = np.mean(bootstrap_scores)\n",
    "print('Mean Bootstrap score', bootstrap_632plus_mean)\n",
    "print('Score Std', np.std(bootstrap_scores))"
   ]
  },
  {
   "cell_type": "code",
   "execution_count": 17,
   "metadata": {},
   "outputs": [],
   "source": [
    "bootstrap_632plus_percentile_lower = np.percentile(bootstrap_scores, 2.5)\n",
    "bootstrap_632plus_percentile_upper = np.percentile(bootstrap_scores, 97.5)"
   ]
  },
  {
   "cell_type": "code",
   "execution_count": 18,
   "metadata": {},
   "outputs": [
    {
     "name": "stdout",
     "output_type": "stream",
     "text": [
      "0.8005310604011313 0.8392602454658007\n"
     ]
    }
   ],
   "source": [
    "print(bootstrap_632plus_percentile_lower, bootstrap_632plus_percentile_upper)"
   ]
  },
  {
   "cell_type": "markdown",
   "metadata": {},
   "source": [
    "# Summary"
   ]
  },
  {
   "cell_type": "code",
   "execution_count": 19,
   "metadata": {},
   "outputs": [
    {
     "data": {
      "image/png": "[encoded data removed]",
      "text/plain": [
       "<Figure size 504x216 with 1 Axes>"
      ]
     },
     "metadata": {
      "needs_background": "light"
     },
     "output_type": "display_data"
    }
   ],
   "source": [
    "labels = [\n",
    "    \"Normal approx. sample CI (test set, no bootstrap)\",\n",
    "    \"Bootstrapping the test set, percentile method\",\n",
    "    \"Bootstrap, sample CI\",\n",
    "    \"Bootstrap, percentile method\",\n",
    "    \".632 Bootstrap, percentile method\",  \n",
    "    \".632+ Bootstrap, percentile method\",    \n",
    "]\n",
    "\n",
    "mean = [\n",
    "    acc_test_na,\n",
    "    mean_test_accuracies,\n",
    "    bootstrap_train_mean,\n",
    "    bootstrap_oob_mean,\n",
    "    bootstrap_632_mean,\n",
    "    bootstrap_632plus_mean\n",
    "]\n",
    "\n",
    "lower_error = [\n",
    "    test_na_lower,\n",
    "    bootstrap_lower_test,\n",
    "    bootstrap_na_lower,\n",
    "    bootstrap_oob_percentile_lower,\n",
    "    bootstrap_632_percentile_lower,\n",
    "    bootstrap_632plus_percentile_lower\n",
    "]\n",
    "\n",
    "upper_error = [\n",
    "    test_na_upper,\n",
    "    bootstrap_upper_test,\n",
    "    bootstrap_na_upper,\n",
    "    bootstrap_oob_percentile_upper,\n",
    "    bootstrap_632_percentile_upper,\n",
    "    bootstrap_632plus_percentile_upper    \n",
    "]\n",
    "\n",
    "\n",
    "asymmetric_error = [np.array(mean) - np.array(lower_error), \n",
    "                    np.array(upper_error) - np.array(mean)]\n",
    "\n",
    "\n",
    "fig, ax = plt.subplots(figsize=(7, 3))\n",
    "ax.errorbar(mean, np.arange(len(mean)), xerr=asymmetric_error, fmt='o')\n",
    "#ax.set_xlim([0.86, 1.0])\n",
    "ax.set_yticks(np.arange(len(mean)))\n",
    "ax.set_yticklabels(labels)\n",
    "ax.set_xlabel('Prediction Accuracy')\n",
    "ax.set_title('95% confidence intervals')\n",
    "plt.tight_layout()\n",
    "plt.savefig('CI_mnist.pdf')\n",
    "plt.show()"
   ]
  }
 ],
 "metadata": {
  "kernelspec": {
   "display_name": "Python 3",
   "language": "python",
   "name": "python3"
  },
  "language_info": {
   "codemirror_mode": {
    "name": "ipython",
    "version": 3
   },
   "file_extension": ".py",
   "mimetype": "text/x-python",
   "name": "python",
   "nbconvert_exporter": "python",
   "pygments_lexer": "ipython3",
   "version": "3.8.2"
  }
 },
 "nbformat": 4,
 "nbformat_minor": 4
}
